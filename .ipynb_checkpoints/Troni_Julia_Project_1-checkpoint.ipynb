{
 "cells": [
  {
   "cell_type": "markdown",
   "metadata": {},
   "source": [
    "# REPORT TITLE\n",
    "\n",
    "Report should not exceed 3 printed pages, including figures, tables, and references.\n",
    "\n",
    "----\n",
    "\n",
    "## Executive Summary\n",
    "\n",
    "Write 1-to-2 paragraphs that answer the following questions.\n",
    "\n",
    "- What is the problem you’re solving and why?\n",
    "- Summarize the algorithms and essential comparisons\n",
    "- Summarize experiments\n",
    "- Summarize conclusions\n",
    "- How might this work be extended?"
   ]
  },
  {
   "cell_type": "markdown",
   "metadata": {},
   "source": [
    "## Method implementations\n",
    "\n",
    "Implement the methods used in the numerical experiment with comments. Comment formatting example: https://numpydoc.readthedocs.io/en/latest/example.html"
   ]
  },
  {
   "cell_type": "code",
   "execution_count": 1,
   "metadata": {},
   "outputs": [],
   "source": [
    "# Algorithm Implementations"
   ]
  },
  {
   "cell_type": "markdown",
   "metadata": {},
   "source": [
    "## Numerical experiments\n",
    "\n",
    "- Briefly describe the experiments. What are the variables? How do the experimental results help solve the problem?\n",
    "- Write scripts that generate the data needed to answer the questions about the methods."
   ]
  },
  {
   "cell_type": "code",
   "execution_count": 2,
   "metadata": {},
   "outputs": [],
   "source": [
    "# Numerical Experiments"
   ]
  },
  {
   "cell_type": "markdown",
   "metadata": {},
   "source": [
    "## Data Visualization\n",
    "\n",
    "- Make clear and concise plots that support the conclusions\n",
    "- Describe relevant and interesting features you perceive in the visualization"
   ]
  },
  {
   "cell_type": "code",
   "execution_count": 3,
   "metadata": {},
   "outputs": [],
   "source": [
    "# Make Plots"
   ]
  },
  {
   "cell_type": "markdown",
   "metadata": {},
   "source": [
    "## Conclusions\n",
    "\n",
    "- Clearly state the conclusions\n",
    "- How do the experimental results support the conclusion? \n",
    "\n",
    "## References\n",
    "\n",
    "- Collect citations and URLs for (1) material referenced in the report and (2) general background material"
   ]
  },
  {
   "cell_type": "code",
   "execution_count": null,
   "metadata": {},
   "outputs": [],
   "source": []
  }
 ],
 "metadata": {
  "kernelspec": {
   "display_name": "Python 3 (ipykernel)",
   "language": "python",
   "name": "python3"
  },
  "language_info": {
   "codemirror_mode": {
    "name": "ipython",
    "version": 3
   },
   "file_extension": ".py",
   "mimetype": "text/x-python",
   "name": "python",
   "nbconvert_exporter": "python",
   "pygments_lexer": "ipython3",
   "version": "3.9.7"
  }
 },
 "nbformat": 4,
 "nbformat_minor": 4
}
