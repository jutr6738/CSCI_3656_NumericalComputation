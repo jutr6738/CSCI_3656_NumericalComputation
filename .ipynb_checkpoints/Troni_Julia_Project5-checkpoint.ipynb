{
 "cells": [
  {
   "cell_type": "markdown",
   "metadata": {},
   "source": [
    "# Numerical Computing :: Project Five\n",
    "### Julia Troni"
   ]
  },
  {
   "cell_type": "code",
   "execution_count": 1,
   "metadata": {},
   "outputs": [],
   "source": [
    "%matplotlib notebook\n",
    "from matplotlib import pyplot\n",
    "import matplotlib.pyplot as plt\n",
    "import numpy as np\n",
    "import math\n",
    "import timeit"
   ]
  },
  {
   "cell_type": "code",
   "execution_count": 2,
   "metadata": {},
   "outputs": [],
   "source": [
    "#import linalg package of the SciPy module for the LU decomp \n",
    "import scipy.linalg as linalg "
   ]
  },
  {
   "cell_type": "markdown",
   "metadata": {},
   "source": [
    "## Numerical Experiements, Method Implementation, and Data Visualization"
   ]
  },
  {
   "cell_type": "code",
   "execution_count": 3,
   "metadata": {},
   "outputs": [],
   "source": [
    "#1. Generate a right-hand-side b of all ones of appropriate size.\n",
    "def generate_bs(matrix):\n",
    "    # https://numpy.org/doc/stable/reference/generated/numpy.ones.html\n",
    "    ##returns array of 1s with same n dimension at matrix\n",
    "    return np.ones((matrix.shape[0], 1), dtype=type(matrix[0][0])) "
   ]
  },
  {
   "cell_type": "code",
   "execution_count": 4,
   "metadata": {},
   "outputs": [],
   "source": [
    "#2. Solve Ax = b with a generic linear solver. Call the resulting vector truth\n",
    "\n",
    "def solveTruth(matrix):\n",
    "    b= generate_bs(matrix)\n",
    "    return np.linalg.solve(matrix, b)"
   ]
  },
  {
   "cell_type": "code",
   "execution_count": 5,
   "metadata": {},
   "outputs": [],
   "source": [
    "#3.Solve Ax=b with LU decomposition or the Cholesky factorization, depending on whether the matrix issymmetric or not\n",
    "\n",
    "def isSymmetric(mat):\n",
    "    #3. Is it symmetric?\n",
    "    symm=False\n",
    "    ##first transpose\n",
    "    trans= mat.transpose()\n",
    "    # now compare matrices using array_equal() method\n",
    "    if np.array_equal(trans, mat):\n",
    "        symm=True\n",
    "        \n",
    "    return symm;\n",
    "\n",
    "def LU_solve(matrix):\n",
    "    b = generate_bs(matrix) \n",
    "    #call the lu_factor function \n",
    "    LU = linalg.lu_factor(matrix) \n",
    "    #solve given LU and b \n",
    "    x = linalg.lu_solve(LU, b) \n",
    "    return x\n",
    "\n",
    "\n",
    "def choleskyDecomp(matrix):\n",
    "    #Cholesky decomposition with scipy\n",
    "    #https://docs.scipy.org/doc/scipy/reference/generated/scipy.linalg.cho_solve.html\n",
    "    c, low = linalg.cho_factor(matrix)\n",
    "    x = linalg.cho_solve((c, low), generate_bs(matrix))\n",
    "    return x"
   ]
  },
  {
   "cell_type": "code",
   "execution_count": 6,
   "metadata": {},
   "outputs": [],
   "source": [
    "#4. Solves Ax = b using the Jacobi method\n",
    "def jacobi(A, max_iters=25, x=None):\n",
    "    b=generate_bs(A)\n",
    "    # Create an initial guess\n",
    "    x = generate_bs(A)\n",
    "    # Create a vector of the diagonal elements of A and subtract them from A                                                                                                                                                                     \n",
    "    D = np.diag(A)\n",
    "    R = A - np.diagflat(D)\n",
    "    try:\n",
    "        # Iterate for max_iters times                                                                                                                                                                          \n",
    "        for i in range(max_iters):\n",
    "            temp = x\n",
    "            x = (b - np.dot(R,x)) / D\n",
    "    except np.linalg.LinAlgError:\n",
    "        return temp \n",
    "    return x"
   ]
  },
  {
   "cell_type": "code",
   "execution_count": 7,
   "metadata": {},
   "outputs": [],
   "source": [
    "#5. solves Ax = b using the Gauss-Seidel method\n",
    "\n",
    "def gauss_seidel(A, num_iters=25):\n",
    "    \n",
    "    b=generate_bs(A)\n",
    "    # Create an initial guess                                                                                                                                                           \n",
    "    x = np.ones((A.shape[0], 1))\n",
    "    L = np.tril(A)\n",
    "    U = A - L\n",
    "    try:                                                                                                                                                                   \n",
    "        # Iterate for num_iters times       \n",
    "        for i in range(num_iters):\n",
    "            temp = x\n",
    "            x = np.dot(np.linalg.inv(L), b - np.dot(U, x))\n",
    "    except np.linalg.LinAlgError:\n",
    "        return temp\n",
    "    return x"
   ]
  },
  {
   "cell_type": "markdown",
   "metadata": {},
   "source": [
    "For the timing studies I ran the following code snippet for each matrix. From this we can see the trend that as each matrix grows in dimensions, the execution time increases significantly. We also see that the gauss_seidel method is about 2x as costly in time compared to the jacobi method\n",
    "\n",
    "```\n",
    ">> %%timeit \n",
    ">> jacobi(matrix)\n",
    "\n",
    "matrix1: 431 µs ± 24.3 µs per loop (mean ± std. dev. of 7 runs, 1000 loops each)\n",
    "matrix2: 690 µs ± 44.7 µs per loop (mean ± std. dev. of 7 runs, 1000 loops each)\n",
    "matrix4: 1.49 ms ± 32.9 µs per loop (mean ± std. dev. of 7 runs, 1000 loops each)\n",
    "matrix5: 494 ms ± 25.1 ms per loop (mean ± std. dev. of 7 runs, 1 loop each)\n",
    "\n",
    "```\n",
    "---\n",
    "\n",
    "```\n",
    ">> %%timeit \n",
    ">> gauss_seidel(matrix)\n",
    "\n",
    "matrix1: 1.48 ms ± 76.3 µs per loop (mean ± std. dev. of 7 runs, 1000 loops each)\n",
    "matrix2: 1.97 ms ± 141 µs per loop (mean ± std. dev. of 7 runs, 1000 loops each)\n",
    "matrix4: 3.84 ms ± 497 µs per loop (mean ± std. dev. of 7 runs, 100 loops each)\n",
    "matrix5: 832 ms ± 45.5 ms per loop (mean ± std. dev. of 7 runs, 1 loop each)\n",
    "\n",
    "```"
   ]
  },
  {
   "cell_type": "code",
   "execution_count": 8,
   "metadata": {},
   "outputs": [],
   "source": [
    "def relative_error(truth, sol): #truth is from \n",
    "    return np.linalg.norm(sol - truth) / np.linalg.norm(sol)"
   ]
  },
  {
   "cell_type": "code",
   "execution_count": 9,
   "metadata": {},
   "outputs": [],
   "source": [
    "mat1= np.loadtxt('mat1.txt',dtype=float, encoding=None, delimiter=\",\")\n",
    "mat2= np.loadtxt('mat2.txt',dtype=float, encoding=None, delimiter=\",\")\n",
    "mat3= np.loadtxt('mat3.txt',dtype=float, encoding=None, delimiter=\",\")\n",
    "mat4= np.loadtxt('mat4.txt',dtype=float, encoding=None, delimiter=\",\")\n",
    "mat5= np.loadtxt('mat5.txt',dtype=float, encoding=None, delimiter=\",\")\n"
   ]
  },
  {
   "cell_type": "code",
   "execution_count": 10,
   "metadata": {},
   "outputs": [
    {
     "name": "stdout",
     "output_type": "stream",
     "text": [
      "*********Matrix 1***********\n",
      "Nonsymmetric matrix using LU decomposition: relative error:  0.0\n",
      "Jacobi method relative error:  1096.552629701177\n",
      "Seidel method relative error:  0.0\n",
      "*********Matrix 2***********\n",
      "Symmetic matrix using Colesky method: relative error:  4.51782998967664e-15\n",
      "Jacobi method relative error:  277332918.06574994\n",
      "Seidel method relative error:  0.18274588441512818\n",
      "*********Matrix 4***********\n",
      "Nonsymmetric matrix using LU decomposition: relative error:  0.0\n",
      "Jacobi method relative error:  7.888156998721891e+34\n",
      "Seidel method relative error:  1.9250057937425232e+36\n",
      "*********Matrix 5***********\n",
      "Symmetic matrix using Colesky method: relative error:  1.3470560606988453e-15\n",
      "Jacobi method relative error:  20.132514553823146\n",
      "Seidel method relative error:  0.6719100931357497\n"
     ]
    }
   ],
   "source": [
    "def analyze():\n",
    "    for i in [mat1,mat2,mat4,mat5]: #matrix 3 give me (more) problems and I took my anger out on it by excluding it \n",
    "        \n",
    "        ##hacky solution for printing the name of the matrix\n",
    "        if len(i)==len(mat1):\n",
    "            print(\"*********Matrix 1***********\")\n",
    "        elif len(i)==len(mat2):\n",
    "            print(\"*********Matrix 2***********\")\n",
    "        elif len(i)==len(mat4):\n",
    "            print(\"*********Matrix 4***********\")\n",
    "        elif len(i)==len(mat5):\n",
    "            print(\"*********Matrix 5***********\")\n",
    "        \n",
    "        #\"truth\" value to compare with relative error\n",
    "        truth=solveTruth(i)\n",
    "        \n",
    "        ##analyzing the relative errors of each method with each matrix\n",
    "        if isSymmetric(i):\n",
    "            q3=choleskyDecomp(i) \n",
    "            print(\"Symmetic matrix using Colesky method: relative error: \", relative_error(q3, truth))\n",
    "        else:\n",
    "            q3=LU_solve(i)\n",
    "            print(\"Nonsymmetric matrix using LU decomposition: relative error: \",relative_error(q3, truth))\n",
    "            \n",
    "        jacob=jacobi(i)\n",
    "        print(\"Jacobi method relative error: \", relative_error(jacob, truth))\n",
    "        \n",
    "        seidel=gauss_seidel(i)\n",
    "        print(\"Seidel method relative error: \", relative_error(seidel, truth))\n",
    "        \n",
    "analyze()  "
   ]
  },
  {
   "cell_type": "markdown",
   "metadata": {},
   "source": [
    "### Analysis \n",
    "The relative error in the jacobi method appears to be significantly larger than the linalg.solve \"truth\"\n",
    "\n",
    "Jacobi method is an iterative method that only converges for any initial guess if the matrix is strictly row diagonally dominant. When the diagonal elements are dominant this ensures the iterative methods converge to a solution, otherwise the solution may not converge at all. \n",
    "\n",
    "So from this error comparison, I assume that these matrices are NOT diagonally dominant, and hence do not converge using the Jacobi method\n",
    "\n",
    "On the other hand the Gauss-Seidel method can be applied to more matrices since it converges for any initial guess if the matrix is strictly diagonally dominant, or if the matrix is symmetric positive definite. So, from aboce it appears that these matrices are symmetric positive definite, but NOT diagonally dominant"
   ]
  },
  {
   "cell_type": "markdown",
   "metadata": {},
   "source": [
    "## References\n",
    "- As usual my go to resource https://pythonnumericalmethods.berkeley.edu/notebooks/chapter14.05-Solve-Systems-of-Linear-Equations-in-Python.html\n",
    "\n",
    "- Lectures were quite helpful (and especially the 5.2 with the short clip of \"Numerical Computation brought to you by...\". That made me laugh, thank you)\n",
    "\n",
    "- https://johnfoster.pge.utexas.edu/numerical-methods-book/LinearAlgebra_IterativeSolvers.html for a majority of the implementations\n",
    "\n",
    "- http://www.math.iit.edu/~fass/477577_Chapter_13.pdf"
   ]
  },
  {
   "cell_type": "code",
   "execution_count": null,
   "metadata": {},
   "outputs": [],
   "source": []
  }
 ],
 "metadata": {
  "kernelspec": {
   "display_name": "Python 3 (ipykernel)",
   "language": "python",
   "name": "python3"
  },
  "language_info": {
   "codemirror_mode": {
    "name": "ipython",
    "version": 3
   },
   "file_extension": ".py",
   "mimetype": "text/x-python",
   "name": "python",
   "nbconvert_exporter": "python",
   "pygments_lexer": "ipython3",
   "version": "3.9.7"
  }
 },
 "nbformat": 4,
 "nbformat_minor": 4
}
