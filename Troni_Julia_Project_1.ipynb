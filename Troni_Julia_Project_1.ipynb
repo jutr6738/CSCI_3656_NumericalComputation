{
 "cells": [
  {
   "cell_type": "markdown",
   "metadata": {},
   "source": [
    "# Project 1\n",
    "Execute the following lines in a Python interpreter.\n",
    "​\n",
    "```\n",
    " x = 9.4 \n",
    " y = x - 9 \n",
    " z = y - 0.4\n",
    " print(z)\n",
    " ```\n",
    "​\n",
    "- What did you get for z? What should it be in exact arithmetic? Why is it not what it should be?\n",
    "- See Sauer’s Numerical Analysis Chapter 0.3.3 for a complete description of the rounding phenomenon.\n",
    "​\n",
    "----"
   ]
  },
  {
   "cell_type": "code",
   "execution_count": 1,
   "metadata": {},
   "outputs": [
    {
     "name": "stdout",
     "output_type": "stream",
     "text": [
      "9.4\n",
      "0.40000000000000036\n",
      "3.3306690738754696e-16\n"
     ]
    }
   ],
   "source": [
    "#Floating point arithmetic: \n",
    "x = 9.4\n",
    "print(x)\n",
    "y = x - 9\n",
    "print(y)\n",
    "z = y - 0.4\n",
    "print(z)\n",
    "\n",
    "#hmm but in exact arithmetic this is 0. Let us investigate"
   ]
  },
  {
   "cell_type": "code",
   "execution_count": 2,
   "metadata": {},
   "outputs": [
    {
     "name": "stdout",
     "output_type": "stream",
     "text": [
      "9.4\n",
      "9.0\n",
      "0.0\n"
     ]
    }
   ],
   "source": [
    "#Lets try changing the order\n",
    "# hm now this showing exactly 0, which is what we expect\n",
    "a = 9.4\n",
    "print(a)\n",
    "b = a - 0.4\n",
    "print(b)\n",
    "c = b - 9\n",
    "print(c)"
   ]
  },
  {
   "cell_type": "markdown",
   "metadata": {},
   "source": [
    "------"
   ]
  },
  {
   "cell_type": "markdown",
   "metadata": {},
   "source": [
    "- From Sauer's textbook and Paul's lecture 1.2 and previous classes, I know that computers have a finite precision memory, however they must store infinite precision numbers and hence must handle rounding in some way \n",
    "- IEEE sets standards for \"that establish specifications and procedures designed to maximize the reliability of the materials, products, methods, and/or services people use every day\". This includes a majority of computers, storage devices,  and software platforms, including python \n",
    "\n",
    "---\n",
    "\n"
   ]
  },
  {
   "cell_type": "markdown",
   "metadata": {},
   "source": [
    "- 9.4 represented by the IEE double precision floating point standard is $$\\boxed{ 1.0010 1100 1100 1100 1100 1100 1100 1100 1100 1100 1100 1100}  1100 ...  \\times 2^3  $$ thus the 53rd bit is a 1 so the IEE rounding to nearest says to round up, or add a 1 to bit 52 \n",
    "    - We are discarding the infinite tail which means we subtract $$ .{1100}\\times 2^{-52}\\time 2^3= 0.4\\times 2^{-48}$$ and then round up, adding $$2^{-52} \\times 2^3 = 2^{-49}$$\n",
    "    - Thus we have it that 9.4 is represented in the computer by $$ fl(9.4) = 9.4-0.4\\times2^{-48}+2^{-49} $$ $$ = 9.4 + 2^{-49}-0.4\\times 2^{-48} $$\n",
    "    \n",
    "\n",
    "- Which means that the rounding error when storing 9.4 is $$ = 0.2 \\times 2^{-49} $$\n",
    "    \n",
    "    \n",
    "    \n"
   ]
  },
  {
   "cell_type": "code",
   "execution_count": 3,
   "metadata": {},
   "outputs": [
    {
     "name": "stdout",
     "output_type": "stream",
     "text": [
      "3.552713678800501e-16\n",
      "0.0\n"
     ]
    }
   ],
   "source": [
    "roundingError= 0.2*2**-49 # this is the rounding error when we store 9.4\n",
    "print(roundingError)\n",
    "print(9.4-9-roundingError-0.4)\n"
   ]
  },
  {
   "cell_type": "markdown",
   "metadata": {},
   "source": [
    "- Likewise, 0.4 represented by the IEE double precision floating point standard is $$\\boxed{ 1.1001 1001 1001 1001 1001 1001 1001 1001 1001 1001 1001 1001}  1001 ...  \\times 2^{-2}  $$ thus the 53rd bit is a 1 so the IEE rounding to nearest says to round up, or add a 1 to bit 52 \n",
    "- So fl(0.4) becomes $$\\boxed{ 1.1001 1001 1001 1001 1001 1001 1001 1001 1001 1001 1001 1010} \\times 2^{-2}  $$ \n",
    "    - Thus, we are discarding the infinite tail which means we subtract $$ 2^{-53} \\times 2^{-2} + \\bar{.{0110}}\\times 2^{-54}\\times 2^{-2}= 0.4\\times 2^{-48}$$ \n",
    "        and then round up, adding $$2^{-52} \\times 2^-2 = 2^{-54}$$\n",
    "    - Thus we have it that 0.4 is represented in the computer by $$ fl(0.4) = 0.4-2^{-55}-0.4\\times2^{-56}+2^{-54} $$ $$ = 0.4 + 0.1 \\times 2^{-52} $$\n",
    "    \n",
    "\n",
    "- Which means that the rounding error when storing 0.4 is $$ = 0.1 \\times 2^{-52} $$\n",
    "    \n",
    "\n",
    "\n",
    "\n",
    "\n",
    "[Aside: Note I ended up coping this directly from the textbook after I first (stubbornly) tried to do this by hand without referencing the textbook to \"test myself\". Then I made the even dumber naieve decision not to check if I was correct, and ended up doing the rounding for incorrectly and I carried the error way to far through and wasted time. Learning point: just use the resources early and often ]\n",
    "\n",
    "---"
   ]
  },
  {
   "cell_type": "code",
   "execution_count": 4,
   "metadata": {},
   "outputs": [
    {
     "name": "stdout",
     "output_type": "stream",
     "text": [
      "2.2204460492503132e-17\n",
      "3.7747582837255326e-16\n",
      "0.4\n",
      "3.108624468950438e-16\n"
     ]
    },
    {
     "data": {
      "text/plain": [
       "3.6e-16"
      ]
     },
     "execution_count": 4,
     "metadata": {},
     "output_type": "execute_result"
    }
   ],
   "source": [
    "roundingError2= 0.1*2**-52# this is the rounding error when we store 9.4\n",
    "print(roundingError2)\n",
    "print(roundingError+roundingError2)\n",
    "\n",
    "print(9.4-9-roundingError)\n",
    "print(roundingError+9.4-9-.4-roundingError2)\n",
    "\n",
    "0.00000000000000036"
   ]
  },
  {
   "cell_type": "markdown",
   "metadata": {},
   "source": [
    "- Thus it is easy to see how operations between floating points can quickly exasperate the error"
   ]
  },
  {
   "cell_type": "code",
   "execution_count": 5,
   "metadata": {},
   "outputs": [
    {
     "name": "stdout",
     "output_type": "stream",
     "text": [
      "Python reported 9.4-9-0.4 was:  3.3306690738754696e-16\n",
      "The rounding error for 9.4 and 0.4 is:  3.7747582837255326e-16\n"
     ]
    }
   ],
   "source": [
    "#I wanted to see if this is the rounding errors for 9.4 and 0.4 is equal to 3.3306690738754696e-16, what python reported for 9.4-9-0.4\n",
    "totalRoundingError=(roundingError+roundingError2)\n",
    "\n",
    "print(\"Python reported 9.4-9-0.4 was:  {}\". format(z))\n",
    "print(\"The rounding error for 9.4 and 0.4 is:  {}\". format(totalRoundingError))\n",
    "\n",
    "#Clearly this is not the case, and I believe this is because there are rounding errors in `roundingError` itself\n",
    "\n",
    "# I really wanted to see if there was some way around this, and obviously there is not, I cannot trick the computer to store infinite numbers\n"
   ]
  },
  {
   "cell_type": "markdown",
   "metadata": {},
   "source": [
    "----"
   ]
  },
  {
   "cell_type": "markdown",
   "metadata": {},
   "source": [
    "### Misc experiments\n",
    "\n",
    "- Explored a bunch of resources and experimented with ALOT of ways to represent 9.4, 9, and 0.4 because I really wanted to see if there were other ways to do `9.4-9-0.4` in that order and get 0 and obviously there is not, I cannot trick the computer to store infinite numbers, but regardless here are some cool ways to play with numbers\n"
   ]
  },
  {
   "cell_type": "code",
   "execution_count": 6,
   "metadata": {},
   "outputs": [
    {
     "name": "stdout",
     "output_type": "stream",
     "text": [
      "The float 9.4 is printed as 9.4 \n",
      "Which in ratio form is (5291729562160333, 562949953421312)\n",
      "9.4\n",
      "True\n"
     ]
    }
   ],
   "source": [
    "# From source: https://docs.python.org/3/tutorial/floatingpoint.html\n",
    "# Python has some methods to find the exact value of a float. \n",
    "# The float.as_integer_ratio() method expresses the value of a float as a fraction:\n",
    "dec=9.4\n",
    "rat= dec.as_integer_ratio()\n",
    "print(\"The float 9.4 is printed as {} \".format(dec))\n",
    "print(\"Which in ratio form is {}\".format(rat))\n",
    "\n",
    "#convert the ratio to decimal\n",
    "rat_to_dec= 5291729562160333/562949953421312\n",
    "print(rat_to_dec) #appears to be 9.4, but lets check if they are actually stored equivalently\n",
    "print(rat_to_dec== 9.4) ##wow they are"
   ]
  },
  {
   "cell_type": "code",
   "execution_count": 7,
   "metadata": {},
   "outputs": [
    {
     "name": "stdout",
     "output_type": "stream",
     "text": [
      "Sign bit is:  0\n",
      "The exponent is:  3\n",
      "The mantissa is:  1.175\n",
      "The float 9.4 or 9.4 in Scientific Notation is : 1.175 * 2**3\n"
     ]
    }
   ],
   "source": [
    "#Really interesting source: http://stupidpythonideas.blogspot.com/2015/01/ieee-floats-and-python.html\n",
    "\n",
    "import bitstring\n",
    "\n",
    "f = 9.4\n",
    "b = bitstring.pack('>d', f)\n",
    "sbit, wbits, pbits = b[:1], b[1:12], b[12:]\n",
    "sign= sbit.bin\n",
    "print(\"Sign bit is: \" , sign) #Sign bit 0 means positive, 1 means negative\n",
    "\n",
    "wbits.bin\n",
    "exp= wbits.uint - (1<<10) + 1\n",
    "print(\"The exponent is: \", exp)\n",
    "\n",
    "pbits.bin\n",
    "mantissa= 1 + pbits.uint / (1<<52) \n",
    "print(\"The mantissa is: \",mantissa )\n",
    "\n",
    "scinot= mantissa*2 **exp\n",
    "print(\"The float {} or {} in Scientific Notation is : {} * 2**{}\".format(f, scinot, mantissa,exp))\n"
   ]
  },
  {
   "cell_type": "code",
   "execution_count": 8,
   "metadata": {},
   "outputs": [
    {
     "name": "stdout",
     "output_type": "stream",
     "text": [
      "The value of epsilon is: 2.220446049250313e-16\n"
     ]
    }
   ],
   "source": [
    "# https://www.delftstack.com/howto/python/python-epsilon/\n",
    "#this didn't really end up leading to any conclusions, but a neat method in numpy to get machine epslon\n",
    "import numpy\n",
    "mach=numpy.finfo('float').eps\n",
    "print(\"The value of epsilon is:\",mach)"
   ]
  },
  {
   "cell_type": "markdown",
   "metadata": {},
   "source": [
    "----"
   ]
  },
  {
   "cell_type": "markdown",
   "metadata": {},
   "source": [
    "## Conclusions\n",
    "\n",
    "- Ultimately concluded that I am not a magician so I cannot trick the computer into having infinite storage capacity \n",
    "- What I did learn:\n",
    "    - Floating point operations can be really dangerous depending on how they are used/what they are used for because of these storage and rounding errors\n",
    "        - This has really got my mind thinking and I will now be on the lookout for it and I am interested to find ways to \"avoid\" this\n",
    "    - I forgot how neat Computer Systems is and man I was quite rusty\n",
    "    - Python has a lot of really neat libraries and methods and I learned how to add more packages to my jupyter kernel \n",
    "    - Also:\n",
    "        - I tried to set cut off timers for myself of 2 hours per day for max of 8 hours on this because I knew I would spend far too long investigating this considering I have many other assignments to do. However, like usual I was not successful in sticking to this, but will try again next time \n",
    "\n",
    "## References\n",
    "\n",
    "- https://standards.ieee.org/develop/develop-standards/overview/\n",
    "- http://stupidpythonideas.blogspot.com/2015/01/ieee-floats-and-python.html (this website has a whole rabbit hole of cool articles, I highly recommend)\n",
    "- Sauer Textbook 2nd edition\n",
    "- https://docs.python.org/\n",
    "- https://www.delftstack.com/howto/python/python-epsilon/"
   ]
  },
  {
   "cell_type": "markdown",
   "metadata": {},
   "source": [
    "#### Notes\n",
    "- watched lectures 1.1 and 1.2 and read Sauer chapter 0.0-0.3 prior to starting\n",
    "- began on Friday 8/26 at 11:30pm worked for 1 hour\n",
    "- worked 4 hours on Tuesday 8/30, still not much to show for it \n",
    "- 8/31: office hours and rereading Sauer Wednesday 4 hours\n",
    "- Thursday 9/1: 3ish hours REALLY TRYING to get bitstring imported\n",
    "- Friday 9/2: FINALLY figured out how to add packages to my jupyter notebook (probably definitely wasted more time on the bitstring attempt than I should have, especially considering it did not lead to any conclusions/discoveries like I was hoping). At least I learned how to do that. Cleaned up the rest of my notebook and actually reported my \"findings\". 4 more hours submitted 5:40. "
   ]
  }
 ],
 "metadata": {
  "kernelspec": {
   "display_name": "Python 3 (ipykernel)",
   "language": "python",
   "name": "python3"
  },
  "language_info": {
   "codemirror_mode": {
    "name": "ipython",
    "version": 3
   },
   "file_extension": ".py",
   "mimetype": "text/x-python",
   "name": "python",
   "nbconvert_exporter": "python",
   "pygments_lexer": "ipython3",
   "version": "3.9.7"
  }
 },
 "nbformat": 4,
 "nbformat_minor": 4
}
