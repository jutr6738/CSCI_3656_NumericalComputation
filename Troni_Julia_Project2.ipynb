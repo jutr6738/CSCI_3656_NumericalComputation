{
 "cells": [
  {
   "cell_type": "markdown",
   "metadata": {},
   "source": [
    "# Numerical Computing :: Project Two\n",
    "### Julia Troni\n",
    "1. Using the quadratic formula, compute the roots of $f(x) = 4x^2 −3x−3.$ Show your work.\n",
    "2. Implement bisection for root finding.\n",
    "3. Transform the function f into an appropriate function g for a fixed point problem. Show your work.\n",
    "4. Implement the fixed point method. Make sure you use good stopping criteria; see Sauer, section 1.2.4.\n",
    "5. Using your implementations, compare the two root finding methods forfinding the root of f. Which is faster? Can you find a function such that the other root finding method is faster? For f, you know the true roots. What if you didn’t know the true roots? How do you compute accuracy if you don’t know the true answer?\n",
    "\n",
    "----"
   ]
  },
  {
   "cell_type": "code",
   "execution_count": 1,
   "metadata": {},
   "outputs": [],
   "source": [
    "import math\n",
    "import timeit"
   ]
  },
  {
   "cell_type": "markdown",
   "metadata": {},
   "source": [
    "## Method implementations\n",
    "\n",
    "Implement the methods used in the numerical experiment with comments"
   ]
  },
  {
   "cell_type": "markdown",
   "metadata": {},
   "source": [
    "### 1.  Quadratic Formula\n",
    "\n",
    "$$ f(x) = 4x^2 −3x−3 $$ \n",
    "\n",
    "$$ x= \\frac { 3 \\pm \\sqrt{9-4(4)(-3)} } {2(4)}$$\n",
    "$$ x= \\frac { 3 \\pm \\sqrt{9+48} } {8}$$\n",
    "$$ x= \\frac { 3 \\pm \\sqrt{57} } {8}$$"
   ]
  },
  {
   "cell_type": "code",
   "execution_count": 2,
   "metadata": {},
   "outputs": [],
   "source": [
    "def quadEq(a,b,c):\n",
    "    pos= (-b+ math.sqrt(b**2-(4*a*c)))/(2*a)\n",
    "    neg= (-b - math.sqrt(b**2-4*a*c))/(2*a)\n",
    "    return (pos,neg)"
   ]
  },
  {
   "cell_type": "code",
   "execution_count": 3,
   "metadata": {},
   "outputs": [
    {
     "name": "stdout",
     "output_type": "stream",
     "text": [
      "The roots found with quadratic method are  (1.3187293044088437, -0.5687293044088437)\n"
     ]
    }
   ],
   "source": [
    "rts=quadEq(4,-3,-3)\n",
    "print (\"The roots found with quadratic method are \", rts)"
   ]
  },
  {
   "cell_type": "markdown",
   "metadata": {},
   "source": [
    "### 2. Bisection Method"
   ]
  },
  {
   "cell_type": "markdown",
   "metadata": {},
   "source": [
    "I first implemented bisection method following Sauer 1.1 and I noticed that the method looks very similar to binary search by curring in half at each iteration "
   ]
  },
  {
   "cell_type": "code",
   "execution_count": 5,
   "metadata": {},
   "outputs": [],
   "source": [
    "# Code from Sauer 1.1 Bisection Method and adapted to python\n",
    "# Computes approximate solution of f(x)=0\n",
    "# Input: function handle f; a,b such that f(a)*f(b)<0, and tolerance tol\n",
    "# Output: Approximate solution xc\n",
    "\n",
    "def bisect(f,a,b,tol):\n",
    "    if (f(a))*(f(b)) >= 0:\n",
    "        return print(\"f(a)f(b)<0 not satisfied!\")\n",
    "    fa=f(a);\n",
    "    fb=f(b);\n",
    "    while (b-a)/2>tol:\n",
    "        c=(a+b)/2;\n",
    "        fc=f(c);\n",
    "        if fc == 0: #c is a solution, done\n",
    "            return c\n",
    "        if (fc)*(fa)<0: #a and c make the new interval\n",
    "            b=c;\n",
    "            fb=fc;\n",
    "        else: #c and b make the new interval\n",
    "            a=c;\n",
    "            fa=fc;\n",
    "    xc=(a+b)/2; #new midpoint is best estimate\n",
    "            \n",
    "    return(xc)\n",
    "    "
   ]
  },
  {
   "cell_type": "code",
   "execution_count": 6,
   "metadata": {},
   "outputs": [
    {
     "data": {
      "text/plain": [
       "1.31884765625"
      ]
     },
     "execution_count": 6,
     "metadata": {},
     "output_type": "execute_result"
    }
   ],
   "source": [
    "f = lambda x: 4*x**2-3*x-3\n",
    "bisect(f, 0, 2, 0.0005)"
   ]
  },
  {
   "cell_type": "code",
   "execution_count": 7,
   "metadata": {},
   "outputs": [
    {
     "data": {
      "text/plain": [
       "-0.56884765625"
      ]
     },
     "execution_count": 7,
     "metadata": {},
     "output_type": "execute_result"
    }
   ],
   "source": [
    "bisect(f, -2, 0, 0.0005)"
   ]
  },
  {
   "cell_type": "markdown",
   "metadata": {},
   "source": [
    "Then I was curious how other implementations would compare so I found https://pythonnumericalmethods.berkeley.edu/notebooks/chapter19.03-Bisection-Method.html#:~:text=The%20bisection%20method%20uses%20the,interval%20(a%2Cb) and ran that"
   ]
  },
  {
   "cell_type": "code",
   "execution_count": 8,
   "metadata": {},
   "outputs": [],
   "source": [
    "import numpy as np\n",
    "\n",
    "def my_bisection(f, a, b, tol): \n",
    "    # approximates a root of function f bounded by a and b to within tolerance \n",
    "    # | f(m) | < tol with m the midpoint between a and b \n",
    "    \n",
    "    # check if a and b bound a root meaning check f(a)*f(b)>0\n",
    "    if np.sign(f(a)) == np.sign(f(b)):\n",
    "        raise Exception(\n",
    "         \"The scalars a and b do not bound a root\")\n",
    "        \n",
    "    # get midpoint\n",
    "    m = (a + b)/2\n",
    "    \n",
    "    if np.abs(f(m)) < tol:\n",
    "        # stopping condition, report m as root\n",
    "        return m\n",
    "    elif np.sign(f(a)) == np.sign(f(m)):\n",
    "        # case where m is an improvement on a. \n",
    "        # Make recursive call with a = m\n",
    "        return my_bisection(f, m, b, tol)\n",
    "    elif np.sign(f(b)) == np.sign(f(m)):\n",
    "        # case where m is an improvement on b. \n",
    "        # Make recursive call with b = m\n",
    "        return my_bisection(f, a, m, tol)\n",
    "    "
   ]
  },
  {
   "cell_type": "code",
   "execution_count": 9,
   "metadata": {},
   "outputs": [
    {
     "name": "stdout",
     "output_type": "stream",
     "text": [
      "The first root = 1.3187255859375\n",
      "The second root = -0.5687255859375\n"
     ]
    }
   ],
   "source": [
    "f = lambda x: 4*x**2-3*x-3\n",
    "\n",
    "r1 = my_bisection(f, 0, 2, 0.0005)\n",
    "print(\"The first root =\", r1)\n",
    "\n",
    "r2 = my_bisection(f, -1, 1, 0.0005)\n",
    "print(\"The second root =\", r2)"
   ]
  },
  {
   "cell_type": "markdown",
   "metadata": {},
   "source": [
    "I had to play around with choosing an appropiate a and b such that f(a)*f(b)>0 \n",
    "- First I tried -1 and 1.9, however f(a)*f(b)<0  so then I tried -1 and 1.5 which also failed the check\n",
    "- Then I realized that the bounds needed to be less than the larger root that I already found, in other words for calculating r2 any b works as long as both a and b < the first root\n",
    "- So I chose a=-1 and b=1 for simplicity"
   ]
  },
  {
   "cell_type": "markdown",
   "metadata": {},
   "source": [
    "### Comparison\n",
    "It found the same roots (roughly, and I assume this is likely due to floating point rounding error)\n",
    "- for first implementation using bisect: $$ r1 = 1.31884765625,  r2=-0.56884765625 $$\n",
    "- for second implementation using my_bisection: $$r1= 1.3187255859375, r2= -0.5687255859375$$"
   ]
  },
  {
   "cell_type": "markdown",
   "metadata": {},
   "source": [
    "## Transform the function f into a function g for a fixed point problem:\n",
    "\n",
    "#### First transformation\n",
    "$$4x^2-3x-3=0$$\n",
    "$$4x^2-3=3x$$\n",
    "$$\\frac{4x^2-3}{3}=x$$\n",
    "So I let $$g(x)=\\frac{4x^2-3}{3}$$\n",
    "\n",
    "However, as I found below this does not converge so I transformed f into many other acceptable g's, however unfortunately they do not converge to both roots. \n",
    "\n",
    "Here are some of the other functions g that I found that sadly only converge to the negative root \n",
    "$$g1(x)=\\frac{3}{4x-3}$$\n",
    "$$g2(x)=\\frac{2}{x-1}-3x-1$$\n",
    " \n",
    "I could not figure out why they would not converge to 1.3187, which frustuated me as these g's only found -0.5687. I ended up using g2 in my implemtation below and for the comparison"
   ]
  },
  {
   "cell_type": "markdown",
   "metadata": {},
   "source": [
    "### 3. Fixed Point Method"
   ]
  },
  {
   "cell_type": "code",
   "execution_count": 10,
   "metadata": {},
   "outputs": [
    {
     "name": "stdout",
     "output_type": "stream",
     "text": [
      "\n",
      "\n",
      "*** FIXED POINT ITERATION ***\n",
      "Iteration-1, x1 = -0.428571 and f(x1) = -3.551020\n",
      "Iteration-2, x1 = -0.636364 and f(x1) = -3.289256\n",
      "Iteration-3, x1 = -0.540984 and f(x1) = -3.452298\n",
      "Iteration-4, x1 = -0.580952 and f(x1) = -3.392834\n",
      "Iteration-5, x1 = -0.563506 and f(x1) = -3.420362\n",
      "Iteration-6, x1 = -0.570991 and f(x1) = -3.408850\n",
      "Iteration-7, x1 = -0.567756 and f(x1) = -3.413881\n",
      "Iteration-8, x1 = -0.569150 and f(x1) = -3.411724\n",
      "Iteration-9, x1 = -0.568548 and f(x1) = -3.412656\n",
      "Iteration-10, x1 = -0.568807 and f(x1) = -3.412255\n",
      "Iteration-11, x1 = -0.568696 and f(x1) = -3.412428\n",
      "Iteration-12, x1 = -0.568744 and f(x1) = -3.412353\n",
      "Iteration-13, x1 = -0.568723 and f(x1) = -3.412386\n",
      "Iteration-14, x1 = -0.568732 and f(x1) = -3.412372\n",
      "Iteration-15, x1 = -0.568728 and f(x1) = -3.412378\n",
      "Iteration-16, x1 = -0.568730 and f(x1) = -3.412375\n",
      "Iteration-17, x1 = -0.568729 and f(x1) = -3.412376\n",
      "Iteration-18, x1 = -0.568729 and f(x1) = -3.412376\n",
      "Iteration-19, x1 = -0.568729 and f(x1) = -3.412376\n",
      "Iteration-20, x1 = -0.568729 and f(x1) = -3.412376\n",
      "-0.5687293218019169\n",
      "\n",
      "Not Convergent.\n"
     ]
    }
   ],
   "source": [
    "#https://www.codesansar.com/numerical-methods/fixed-point-iteration-python-program-output.html\n",
    "\n",
    "import math\n",
    "\n",
    "def f(x):\n",
    "    return (4*x**2)+(3*x)-3\n",
    "\n",
    "\n",
    "# Re-writing f(x)=0 to x = g(x)\n",
    "def g(x):\n",
    "    #return (4*x**2-3)/3 #this g is not convergent\n",
    "    return (3)/(4*x-3) #this g only finds 1 root\n",
    "\n",
    "\n",
    "# Implementing Fixed Point Iteration Method\n",
    "# x0 is initial guess, N is number of iterations, e is the tolerance\n",
    "def fixedPointIteration(x0, e, N):\n",
    "    print('\\n\\n*** FIXED POINT ITERATION ***')\n",
    "    step = 1\n",
    "    flag = 1\n",
    "    condition = True\n",
    "    while condition:\n",
    "        x1 = g(x0)\n",
    "        print('Iteration-%d, x1 = %0.6f and f(x1) = %0.6f' % (step, x1, f(x1)))\n",
    "        x0 = x1\n",
    "\n",
    "        step = step + 1\n",
    "        \n",
    "        if step > N:\n",
    "            flag=0\n",
    "            break\n",
    "        \n",
    "        condition = abs(f(x1)) > e\n",
    "\n",
    "    print (x1)\n",
    "    if flag==1:\n",
    "        print('\\nRequired root is: %0.8f' % x1)\n",
    "    else:\n",
    "        print('\\nNot Convergent.')\n",
    "\n",
    "fixedPointIteration(-1,0.005,20)"
   ]
  },
  {
   "cell_type": "markdown",
   "metadata": {},
   "source": [
    "# Time Comparison \n",
    "\n",
    "I ran the following code (I have commented it out so my pdf is not hundreds of pages long) but I got these results\n",
    "``` \n",
    "%%timeit\n",
    "fixedPointIteration(-1,0.005,20)\n",
    ">>4.41 ms ± 565 µs per loop (mean ± std. dev. of 7 runs, 100 loops each)\n",
    "\n",
    "my_bisection(f, 0, 2, 0.0005)\n",
    ">> #262 µs ± 22.7 µs per loop (mean ± std. dev. of 7 runs, 1000 loops each)\n",
    "\n",
    "my_bisection(f, -1, 1, 0.0005)\n",
    ">> 258 µs ± 18.5 µs per loop (mean ± std. dev. of 7 runs, 1000 loops each)\n",
    "\n",
    "bisect(f, -2, 0, 0.0005)\n",
    ">> 24 µs ± 1.52 µs per loop (mean ± std. dev. of 7 runs, 10000 loops each)\n",
    "```\n",
    "\n",
    "- Thus, fixedPointIteration not only takes more human time to compute, but it takes significantly more computer time to compute compared to both bisection implementations\n",
    "- I thought it was interesting that bisect (my first implementation of bisection) was significantly faster than my_bisection (second implementation of bisection). This makes sense because my_bisection uses recursive calls which is undoubtely slower and more cumbersome"
   ]
  },
  {
   "cell_type": "code",
   "execution_count": 11,
   "metadata": {},
   "outputs": [],
   "source": [
    "# %%timeit\n",
    "# fixedPointIteration(-1,0.005,20)\n",
    "# 4.41 ms ± 565 µs per loop (mean ± std. dev. of 7 runs, 100 loops each)\n",
    "\n",
    "#my_bisection(f, 0, 2, 0.0005)\n",
    "#262 µs ± 22.7 µs per loop (mean ± std. dev. of 7 runs, 1000 loops each)\n",
    "\n",
    "#my_bisection(f, -1, 1, 0.0005)\n",
    "#258 µs ± 18.5 µs per loop (mean ± std. dev. of 7 runs, 1000 loops each)\n",
    "\n",
    "# bisect(f, -2, 0, 0.0005)\n",
    "# 24 µs ± 1.52 µs per loop (mean ± std. dev. of 7 runs, 10000 loops each)"
   ]
  },
  {
   "cell_type": "markdown",
   "metadata": {},
   "source": [
    "## References\n",
    "\n",
    "- Sauer Numerical Analysis\n",
    "- Python Numerical Methods for my_bisection https://pythonnumericalmethods.berkeley.edu/notebooks/chapter19.03-Bisection-Method.html#:~:text=The%20bisection%20method%20uses%20the,interval%20(a%2Cb)\n",
    "- For fixed point implementation  https://www.codesansar.com/numerical-methods/fixed-point-iteration-python-program-output.html\n",
    "- And of course the one and only Paul https://www.youtube.com/playlist?list=PLSHpTCHnqCKGNQpiLC4Ka5tdvkRmvnN34"
   ]
  },
  {
   "cell_type": "code",
   "execution_count": null,
   "metadata": {},
   "outputs": [],
   "source": []
  }
 ],
 "metadata": {
  "kernelspec": {
   "display_name": "Python 3 (ipykernel)",
   "language": "python",
   "name": "python3"
  },
  "language_info": {
   "codemirror_mode": {
    "name": "ipython",
    "version": 3
   },
   "file_extension": ".py",
   "mimetype": "text/x-python",
   "name": "python",
   "nbconvert_exporter": "python",
   "pygments_lexer": "ipython3",
   "version": "3.9.7"
  }
 },
 "nbformat": 4,
 "nbformat_minor": 4
}
